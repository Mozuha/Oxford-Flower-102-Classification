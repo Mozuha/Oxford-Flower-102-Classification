{
  "nbformat": 4,
  "nbformat_minor": 0,
  "metadata": {
    "colab": {
      "name": "oxflower_split_images.ipynb",
      "provenance": [],
      "collapsed_sections": [],
      "mount_file_id": "17Itz1F-tLxHCVeUiH4EA2WkbqJ5-A586",
      "authorship_tag": "ABX9TyPwMtMnl1pRqrV7AAfowpc5",
      "include_colab_link": true
    },
    "kernelspec": {
      "name": "python3",
      "display_name": "Python 3"
    }
  },
  "cells": [
    {
      "cell_type": "markdown",
      "metadata": {
        "id": "view-in-github",
        "colab_type": "text"
      },
      "source": [
        "<a href=\"https://colab.research.google.com/github/Mozuha/Oxford-Flower-102-Prediction/blob/master/oxflower_split_images.ipynb\" target=\"_parent\"><img src=\"https://colab.research.google.com/assets/colab-badge.svg\" alt=\"Open In Colab\"/></a>"
      ]
    },
    {
      "cell_type": "code",
      "metadata": {
        "id": "dkiI5jZKsAhu",
        "colab_type": "code",
        "colab": {}
      },
      "source": [
        "import os\n",
        "import requests\n",
        "import tarfile\n",
        "import scipy\n",
        "from scipy import io\n",
        "import pandas as pd\n",
        "from sklearn.model_selection import train_test_split\n",
        "from PIL import Image"
      ],
      "execution_count": null,
      "outputs": []
    },
    {
      "cell_type": "code",
      "metadata": {
        "id": "O6tot26vqoT7",
        "colab_type": "code",
        "colab": {}
      },
      "source": [
        "DataPath = '/content/drive/My Drive/data'\n",
        "LabelsPath = os.path.join(DataPath, 'labels.csv')\n",
        "if not os.path.exists(DataPath):\n",
        "  os.mkdir(DataPath)"
      ],
      "execution_count": null,
      "outputs": []
    },
    {
      "cell_type": "markdown",
      "metadata": {
        "id": "iTnzAkQVCx1x",
        "colab_type": "text"
      },
      "source": [
        "###Get images and labels from URL"
      ]
    },
    {
      "cell_type": "code",
      "metadata": {
        "id": "SLHH3Wx3u6BW",
        "colab_type": "code",
        "colab": {}
      },
      "source": [
        "tgz_path = os.path.join(DataPath, '102flowers.tgz')\n",
        "url = 'http://www.robots.ox.ac.uk/~vgg/data/flowers/102/102flowers.tgz'\n",
        "r_image = requests.get(url)\n",
        "with open(tgz_path, 'wb') as f:\n",
        "  f.write(r_image.content)\n",
        "tar = tarfile.open(tgz_path, 'r')\n",
        "for item in tar:\n",
        "  tar.extract(item, DataPath)"
      ],
      "execution_count": null,
      "outputs": []
    },
    {
      "cell_type": "code",
      "metadata": {
        "id": "rcU_2vhyzqIY",
        "colab_type": "code",
        "colab": {}
      },
      "source": [
        "mat_path = os.path.join(DataPath, 'imagelabels.mat')\n",
        "label_url = 'http://www.robots.ox.ac.uk/~vgg/data/flowers/102/imagelabels.mat'\n",
        "r_label = requests.get(label_url)\n",
        "with open(mat_path, 'wb') as f:\n",
        "  f.write(r_label.content)"
      ],
      "execution_count": null,
      "outputs": []
    },
    {
      "cell_type": "markdown",
      "metadata": {
        "id": "mfU0aBWuC_zB",
        "colab_type": "text"
      },
      "source": [
        "###Associate image, label index, and label name"
      ]
    },
    {
      "cell_type": "code",
      "metadata": {
        "id": "3RnKYZFH2t0u",
        "colab_type": "code",
        "colab": {}
      },
      "source": [
        "matdata = scipy.io.loadmat(mat_path)\n",
        "labels = matdata['labels'][0]\n",
        "images = ['image_{:05}.jpg'.format(i + 1) for i in range(len(labels))]\n",
        "image_label_df = pd.DataFrame({'image': images, 'label': labels})\n",
        "label_names_path = os.path.join(DataPath, 'label_names.csv')\n",
        "label_names = pd.read_csv(label_names_path, index_col=0)\n",
        "df = pd.merge(image_label_df, label_names, how='left', on='label')\n",
        "csv_path = os.path.join(DataPath, 'image_label_name.csv')\n",
        "df.to_csv(csv_path)"
      ],
      "execution_count": null,
      "outputs": []
    },
    {
      "cell_type": "markdown",
      "metadata": {
        "id": "jIUH20pzDo3K",
        "colab_type": "text"
      },
      "source": [
        "###Split images into train data and test data"
      ]
    },
    {
      "cell_type": "code",
      "metadata": {
        "id": "S_PKdO4w68Bs",
        "colab_type": "code",
        "colab": {}
      },
      "source": [
        "X_train_path = os.path.join(DataPath, 'X_train')\n",
        "X_test_path = os.path.join(DataPath, 'X_test')"
      ],
      "execution_count": null,
      "outputs": []
    },
    {
      "cell_type": "code",
      "metadata": {
        "id": "O9r0G0Jo8pjd",
        "colab_type": "code",
        "colab": {}
      },
      "source": [
        "labels = pd.read_csv(csv_path, index_col=0)\n",
        "jpg_path = os.path.join(DataPath, 'jpg')\n",
        "X_train, X_test, Y_train, Y_test = train_test_split(os.listdir(jpg_path), labels['name'], test_size=0.2, random_state=0)\n",
        "if not os.path.exists(X_train_path):\n",
        "  os.mkdir(X_train_path)\n",
        "if not os.path.exists(X_test_path):\n",
        "  os.mkdir(X_test_path)\n",
        "for f in os.listdir(jpg_path):\n",
        "  img = Image.open(os.path.join(jpg_path, f))\n",
        "  if f in X_train:\n",
        "    img.save(os.path.join(X_train_path, f))\n",
        "  elif f in X_test:\n",
        "    img.save(os.path.join(X_test_path, f))"
      ],
      "execution_count": null,
      "outputs": []
    },
    {
      "cell_type": "markdown",
      "metadata": {
        "id": "CbEpaOveEBby",
        "colab_type": "text"
      },
      "source": [
        "###Split images into each category"
      ]
    },
    {
      "cell_type": "code",
      "metadata": {
        "id": "2hGEjOsb-vCE",
        "colab_type": "code",
        "colab": {}
      },
      "source": [
        "for f in os.listdir(X_train_path):\n",
        "  index = df.image[df.image==f].index\n",
        "  category = str(df.name[index].values).replace('[', '').replace(']', '').replace(\"'\", '')\n",
        "  if category == '\"colts foot\"':\n",
        "    category = \"colt's foot\"\n",
        "  category_path = os.path.join(X_train_path, category)\n",
        "  if not os.path.exists(category_path):\n",
        "    os.makedirs(category_path)\n",
        "  img = Image.open(os.path.join(X_train_path, f))\n",
        "  img.save(os.path.join(category_path, f))\n",
        "  os.remove(os.path.join(X_train_path, f))"
      ],
      "execution_count": null,
      "outputs": []
    },
    {
      "cell_type": "code",
      "metadata": {
        "id": "rHl5siupABtU",
        "colab_type": "code",
        "colab": {}
      },
      "source": [
        "for f in os.listdir(X_test_path):\n",
        "  index = df.image[df.image==f].index\n",
        "  category = str(df.name[index].values).replace('[', '').replace(']', '').replace(\"'\", '')\n",
        "  if category == '\"colts foot\"':\n",
        "    category = \"colt's foot\"\n",
        "  category_path = os.path.join(X_test_path, category)\n",
        "  if not os.path.exists(category_path):\n",
        "    os.makedirs(category_path)\n",
        "  img = Image.open(os.path.join(X_test_path, f))\n",
        "  img.save(os.path.join(category_path, f))\n",
        "  os.remove(os.path.join(X_test_path, f))"
      ],
      "execution_count": null,
      "outputs": []
    }
  ]
}